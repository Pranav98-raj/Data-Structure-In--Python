{
  "nbformat": 4,
  "nbformat_minor": 0,
  "metadata": {
    "colab": {
      "provenance": []
    },
    "kernelspec": {
      "name": "python3",
      "display_name": "Python 3"
    }
  },
  "cells": [
    {
      "cell_type": "code",
      "metadata": {
        "id": "hZmdW65Hrg8u"
      },
      "source": [
        "class Node:\n",
        "\n",
        "  def __init__(self,value):\n",
        "    self.data = value\n",
        "    self.next = None"
      ],
      "execution_count": null,
      "outputs": []
    },
    {
      "cell_type": "code",
      "metadata": {
        "id": "rtt-E3Borsef"
      },
      "source": [
        "class Stack:\n",
        "\n",
        "  def __init__(self):\n",
        "    self.top = None\n",
        "\n",
        "  def push(self, value):\n",
        "\n",
        "    new_node = Node(value)\n",
        "\n",
        "    new_node.next = self.top\n",
        "\n",
        "    self.top = new_node\n",
        "\n",
        "  def pop(self):\n",
        "\n",
        "    if self.top is None:\n",
        "      return \"Stack Empty\"\n",
        "    else:\n",
        "      data = self.top.data\n",
        "      self.top = self.top.next\n",
        "      return data\n",
        "\n",
        "  def is_empty(self):\n",
        "    return self.top == None\n",
        "\n",
        "  def peek(self):\n",
        "\n",
        "    if self.top is None:\n",
        "      return \"Stack Empty\"\n",
        "    else:\n",
        "      return self.top.data\n",
        "\n",
        "  def traverse(self):\n",
        "\n",
        "    temp = self.top\n",
        "\n",
        "    while temp is not None:\n",
        "      print(temp.data,end=' ')\n",
        "      temp = temp.next\n",
        "\n",
        "  def size(self):\n",
        "\n",
        "    temp = self.top\n",
        "    counter = 0\n",
        "\n",
        "    while temp is not None:\n",
        "      temp = temp.next\n",
        "      counter+=1\n",
        "\n",
        "    return counter\n",
        "\n",
        "\n",
        "\n",
        "  "
      ],
      "execution_count": null,
      "outputs": []
    },
    {
      "cell_type": "code",
      "metadata": {
        "id": "BGbRtvBtsxWv"
      },
      "source": [
        "def reverse_string(string):\n",
        "  s = Stack()\n",
        "  for i in string:\n",
        "\n",
        "    s.push(i)\n",
        "\n",
        "  res = \"\"\n",
        "\n",
        "  while (not s.is_empty()):\n",
        "    res = res + s.pop()\n",
        "\n",
        "  print(res)\n"
      ],
      "execution_count": null,
      "outputs": []
    },
    {
      "cell_type": "code",
      "metadata": {
        "id": "QhsdbhM6szTX",
        "colab": {
          "base_uri": "https://localhost:8080/"
        },
        "outputId": "78119fa7-6394-4190-f9cd-ef493960ad47"
      },
      "source": [
        "reverse_string(\"Haldia\")"
      ],
      "execution_count": null,
      "outputs": [
        {
          "output_type": "stream",
          "text": [
            "aidlaH\n"
          ],
          "name": "stdout"
        }
      ]
    },
    {
      "cell_type": "code",
      "metadata": {
        "id": "ZrgxN_GUs3qz"
      },
      "source": [
        "def text_editor(text,pattern):\n",
        "\n",
        "  u = Stack()\n",
        "  r = Stack()\n",
        "\n",
        "  for i in text:\n",
        "    u.push(i)\n",
        "\n",
        "  for i in pattern:\n",
        "\n",
        "    if i == 'u':\n",
        "      data = u.pop()\n",
        "      r.push(data)\n",
        "    else:\n",
        "      data = r.pop()\n",
        "      u.push(data)\n",
        "\n",
        "  res = \"\"\n",
        "\n",
        "  while(not u.is_empty()):\n",
        "    res = u.pop() + res\n",
        "\n",
        "  print(res)"
      ],
      "execution_count": null,
      "outputs": []
    },
    {
      "cell_type": "code",
      "metadata": {
        "id": "oQPCKEfcs5R-",
        "colab": {
          "base_uri": "https://localhost:8080/"
        },
        "outputId": "d1d5fa57-d2dc-4738-c684-c877d6e75918"
      },
      "source": [
        "text_editor(\"Hello\",\"uurruuuur\")"
      ],
      "execution_count": null,
      "outputs": [
        {
          "output_type": "stream",
          "text": [
            "He\n"
          ],
          "name": "stdout"
        }
      ]
    },
    {
      "cell_type": "code",
      "metadata": {
        "colab": {
          "base_uri": "https://localhost:8080/"
        },
        "id": "m654b_-1tk3K",
        "outputId": "005a98c8-bb28-4bae-a3d6-f75142a6e7c8"
      },
      "source": [
        "s.peek()"
      ],
      "execution_count": null,
      "outputs": [
        {
          "output_type": "execute_result",
          "data": {
            "text/plain": [
              "2"
            ]
          },
          "metadata": {
            "tags": []
          },
          "execution_count": 22
        }
      ]
    },
    {
      "cell_type": "code",
      "metadata": {
        "id": "KAK7xz32uAYC"
      },
      "source": [
        "def brackets(expr):\n",
        "\n",
        "  s = Stack()\n",
        "\n",
        "  for i in expr:\n",
        "\n",
        "    if i == '(':\n",
        "      s.push(i)\n",
        "    elif i == ')':\n",
        "      if s.peek() == '(':\n",
        "        s.pop()\n",
        "      else:\n",
        "        print(\"Imbalanced\")\n",
        "        return \n",
        "\n",
        "  if (s.is_empty()):\n",
        "    print(\"Balanced\")\n",
        "  else:\n",
        "    print(\"Imbalanced\")\n",
        "\n"
      ],
      "execution_count": null,
      "outputs": []
    },
    {
      "cell_type": "code",
      "metadata": {
        "id": "QaLvtu9G1TNI"
      },
      "source": [
        "L = [\n",
        "     [0,1,0,0],\n",
        "     [0,0,1,1],\n",
        "     [1,0,0,1],\n",
        "     [0,0,0,0]\n",
        "]"
      ],
      "execution_count": null,
      "outputs": []
    },
    {
      "cell_type": "code",
      "metadata": {
        "id": "o8VYAoTf1Xd4"
      },
      "source": [
        "def celebrity(L):\n",
        "\n",
        "  s = Stack()\n",
        "\n",
        "  for i in range(len(L)):\n",
        "    s.push(i)\n",
        "\n",
        "  while s.size() >= 2:\n",
        "\n",
        "    i = s.pop()\n",
        "    j = s.pop()\n",
        "\n",
        "    if L[i][j] == 0:\n",
        "      # j is not a celebrity\n",
        "      s.push(i)\n",
        "    else:\n",
        "      # i is not a celebrity\n",
        "      s.push(j)\n",
        "\n",
        "  cel = s.pop()\n",
        "\n",
        "  for i in range(len(L)):\n",
        "\n",
        "    if i != cel:\n",
        "\n",
        "      if L[i][cel] != 1 or L[cel][i] != 0:\n",
        "        print(\"No celebrity\")\n",
        "        return\n",
        "  print(\"Celebrity is\",cel)\n"
      ],
      "execution_count": null,
      "outputs": []
    },
    {
      "cell_type": "code",
      "metadata": {
        "colab": {
          "base_uri": "https://localhost:8080/"
        },
        "id": "lTBOAdHl3g_h",
        "outputId": "216850a0-166b-49c8-fe31-21511c3c3db3"
      },
      "source": [
        "celebrity(L)"
      ],
      "execution_count": null,
      "outputs": [
        {
          "output_type": "stream",
          "text": [
            "No celebrity\n"
          ],
          "name": "stdout"
        }
      ]
    },
    {
      "cell_type": "code",
      "metadata": {
        "colab": {
          "base_uri": "https://localhost:8080/"
        },
        "id": "aHFtqsXH3i8y",
        "outputId": "d0031394-070d-43bc-d629-13012308e8ce"
      },
      "source": [
        "s=Stack()\n",
        "s.push(1)\n",
        "s.push(2)\n",
        "s.push(3)\n",
        "\n",
        "s.size()"
      ],
      "execution_count": null,
      "outputs": [
        {
          "output_type": "execute_result",
          "data": {
            "text/plain": [
              "3"
            ]
          },
          "metadata": {
            "tags": []
          },
          "execution_count": 31
        }
      ]
    },
    {
      "cell_type": "code",
      "metadata": {
        "colab": {
          "base_uri": "https://localhost:8080/"
        },
        "id": "ro6tBQmZ3_zz",
        "outputId": "59648a8c-30e6-4b2b-a308-3a4728374729"
      },
      "source": [
        "L"
      ],
      "execution_count": null,
      "outputs": [
        {
          "output_type": "execute_result",
          "data": {
            "text/plain": [
              "[[0, 1, 0, 1], [0, 0, 1, 1], [1, 0, 0, 1], [0, 0, 0, 0]]"
            ]
          },
          "metadata": {
            "tags": []
          },
          "execution_count": 32
        }
      ]
    },
    {
      "cell_type": "code",
      "metadata": {
        "colab": {
          "base_uri": "https://localhost:8080/"
        },
        "id": "K_elaP-x4O0c",
        "outputId": "1f3daf0c-63ab-4f40-8a94-e92153cfc95c"
      },
      "source": [
        "i = 3\n",
        "j = 2\n",
        "\n",
        "L[i][j]"
      ],
      "execution_count": null,
      "outputs": [
        {
          "output_type": "execute_result",
          "data": {
            "text/plain": [
              "1"
            ]
          },
          "metadata": {
            "tags": []
          },
          "execution_count": 35
        }
      ]
    },
    {
      "cell_type": "code",
      "metadata": {
        "id": "lWg-PCxT4THU"
      },
      "source": [
        "a = Stack()\n",
        "b = Stack()"
      ],
      "execution_count": null,
      "outputs": []
    },
    {
      "cell_type": "code",
      "metadata": {
        "id": "I5I6UDEOHneS"
      },
      "source": [
        "def enqueue_stack(value):\n",
        "  a.push(value)\n",
        "\n",
        "def dequeue_stack():\n",
        "\n",
        "  if not b.is_empty():\n",
        "    b.pop()\n",
        "  else:\n",
        "    if a.is_empty():\n",
        "      print(\"Empty queue\")\n",
        "    else:\n",
        "      while(not a.is_empty()):\n",
        "        data = a.pop()\n",
        "        b.push(data)\n",
        "\n",
        "      b.pop()\n"
      ],
      "execution_count": null,
      "outputs": []
    },
    {
      "cell_type": "code",
      "metadata": {
        "id": "-MVNBe9nIclt"
      },
      "source": [],
      "execution_count": null,
      "outputs": []
    }
  ]
}