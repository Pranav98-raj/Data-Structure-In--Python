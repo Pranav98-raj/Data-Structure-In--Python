{
  "nbformat": 4,
  "nbformat_minor": 0,
  "metadata": {
    "colab": {
      "provenance": []
    },
    "kernelspec": {
      "name": "python3",
      "display_name": "Python 3"
    }
  },
  "cells": [
    {
      "cell_type": "code",
      "metadata": {
        "id": "PurBULUa-0Ud"
      },
      "source": [
        "class Node:\n",
        "\n",
        "  def __init__(self,value):\n",
        "\n",
        "    self.data = value\n",
        "    self.next = None"
      ],
      "execution_count": null,
      "outputs": []
    },
    {
      "cell_type": "code",
      "metadata": {
        "id": "crm3gdWj_n8i"
      },
      "source": [
        "class Queue:\n",
        "\n",
        "  def __init__(self):\n",
        "    self.front = None\n",
        "    self.rear = None\n",
        "\n",
        "  def enqueue(self,value):\n",
        "\n",
        "    new_node = Node(value)\n",
        "\n",
        "    if self.front == None:\n",
        "      self.front = new_node\n",
        "      self.rear = new_node\n",
        "\n",
        "    else:\n",
        "      self.rear.next = new_node\n",
        "      self.rear = new_node\n",
        "\n",
        "  def dequeue(self):\n",
        "\n",
        "    if self.front == None:\n",
        "      return \"Queue empty\"\n",
        "    else:\n",
        "      self.front = self.front.next\n",
        "\n",
        "  def is_empty(self):\n",
        "    return self.front == None\n",
        "\n",
        "  def front_item(self):\n",
        "    if (not self.is_empty()):\n",
        "      return self.front.data\n",
        "    else:\n",
        "      return \"Empty queue\"\n",
        "\n",
        "  def rear_item(self):\n",
        "    if (not self.is_empty()):\n",
        "      return self.rear.data\n",
        "    else:\n",
        "      return \"Empty queue\"\n",
        "    \n",
        "\n",
        "  def traverse(self):\n",
        "\n",
        "    temp = self.front\n",
        "\n",
        "    while temp is not None:\n",
        "      print(temp.data,end=' ')\n",
        "      temp = temp.next\n"
      ],
      "execution_count": null,
      "outputs": []
    },
    {
      "cell_type": "code",
      "metadata": {
        "id": "It7a1H5kBfbF"
      },
      "source": [
        "q = Queue()"
      ],
      "execution_count": null,
      "outputs": []
    },
    {
      "cell_type": "code",
      "metadata": {
        "id": "tsInv6hyBhUn"
      },
      "source": [
        "q.enqueue(3)\n",
        "q.enqueue(4)\n",
        "q.enqueue(5)\n",
        "q.enqueue(7)"
      ],
      "execution_count": null,
      "outputs": []
    },
    {
      "cell_type": "code",
      "metadata": {
        "id": "ImvsCMX5Bm7S"
      },
      "source": [
        "q.traverse()"
      ],
      "execution_count": null,
      "outputs": []
    },
    {
      "cell_type": "code",
      "metadata": {
        "colab": {
          "base_uri": "https://localhost:8080/",
          "height": 35
        },
        "id": "cDKTXJyUBpD9",
        "outputId": "010edb40-1070-42ac-8763-6861ae825334"
      },
      "source": [
        "q.dequeue()"
      ],
      "execution_count": null,
      "outputs": [
        {
          "output_type": "execute_result",
          "data": {
            "application/vnd.google.colaboratory.intrinsic+json": {
              "type": "string"
            },
            "text/plain": [
              "'Queue empty'"
            ]
          },
          "metadata": {
            "tags": []
          },
          "execution_count": 36
        }
      ]
    },
    {
      "cell_type": "code",
      "metadata": {
        "id": "w9ncP6MlB0KK"
      },
      "source": [
        "q.enqueue(8)"
      ],
      "execution_count": null,
      "outputs": []
    },
    {
      "cell_type": "code",
      "metadata": {
        "colab": {
          "base_uri": "https://localhost:8080/"
        },
        "id": "p_WrD96IB4oa",
        "outputId": "c08f14c5-330b-4012-c27a-7a482d867ecb"
      },
      "source": [
        "q.is_empty()"
      ],
      "execution_count": null,
      "outputs": [
        {
          "output_type": "execute_result",
          "data": {
            "text/plain": [
              "False"
            ]
          },
          "metadata": {
            "tags": []
          },
          "execution_count": 48
        }
      ]
    },
    {
      "cell_type": "code",
      "metadata": {
        "colab": {
          "base_uri": "https://localhost:8080/"
        },
        "id": "3HN0CH3IEI3K",
        "outputId": "631baeda-fe47-4cc8-9b20-6206152e9bcb"
      },
      "source": [
        "q.front_item()"
      ],
      "execution_count": null,
      "outputs": [
        {
          "output_type": "execute_result",
          "data": {
            "text/plain": [
              "4"
            ]
          },
          "metadata": {
            "tags": []
          },
          "execution_count": 53
        }
      ]
    },
    {
      "cell_type": "code",
      "metadata": {
        "colab": {
          "base_uri": "https://localhost:8080/"
        },
        "id": "WxhnIMn6ELpY",
        "outputId": "54dbd4a1-5aa5-4e4d-f20a-4fbb3d11714f"
      },
      "source": [
        "q.rear_item()"
      ],
      "execution_count": null,
      "outputs": [
        {
          "output_type": "execute_result",
          "data": {
            "text/plain": [
              "7"
            ]
          },
          "metadata": {
            "tags": []
          },
          "execution_count": 52
        }
      ]
    },
    {
      "cell_type": "code",
      "metadata": {
        "id": "yzG_VbWxEXcH"
      },
      "source": [
        "q.dequeue()"
      ],
      "execution_count": null,
      "outputs": []
    },
    {
      "cell_type": "code",
      "metadata": {
        "id": "q7wOxuqpEgoD"
      },
      "source": [
        "def check_balanced_parenthesis(s):\n",
        "    stk = Stack()\n",
        "    for item in s:\n",
        "        if item == '(':\n",
        "            stk.push(item)\n",
        "        elif item == '{':\n",
        "            stk.push(item)\n",
        "        elif item == '[':\n",
        "            stk.push(item)\n",
        "        elif item == ')':\n",
        "            if stk.peek() == '(':\n",
        "                stk.pop()\n",
        "            else:\n",
        "                return False\n",
        "        elif item == '}':\n",
        "            if stk.peek() == '{':\n",
        "                stk.pop()\n",
        "            else:\n",
        "                return False\n",
        "        elif item == ']':\n",
        "            if stk.peek() == '[':\n",
        "                stk.pop()\n",
        "            else:\n",
        "                return False\n",
        "        else:\n",
        "            continue\n",
        "            \n",
        "    return stk.is_empty()\n",
        "\n",
        "s=\"{[(a+b) + (c+d)]}\"\n",
        "print(check_balanced_parenthesis(s))\n"
      ],
      "execution_count": null,
      "outputs": []
    }
  ]
}