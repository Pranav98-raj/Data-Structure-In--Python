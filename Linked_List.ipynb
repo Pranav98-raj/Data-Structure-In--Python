{
  "nbformat": 4,
  "nbformat_minor": 0,
  "metadata": {
    "colab": {
      "provenance": []
    },
    "kernelspec": {
      "name": "python3",
      "display_name": "Python 3"
    },
    "language_info": {
      "name": "python"
    }
  },
  "cells": [
    {
      "cell_type": "code",
      "execution_count": null,
      "metadata": {
        "id": "3IdNglXYQi7z"
      },
      "outputs": [],
      "source": [
        "class Node:\n",
        "\n",
        "  def __init__(self,value):\n",
        "    self.data = value\n",
        "    self.next = None"
      ]
    },
    {
      "cell_type": "code",
      "source": [
        "a = Node(1)\n",
        "b = Node(2)\n",
        "c = Node(3)"
      ],
      "metadata": {
        "id": "_zNaH474Q840"
      },
      "execution_count": null,
      "outputs": []
    },
    {
      "cell_type": "code",
      "source": [
        "print(c.data)"
      ],
      "metadata": {
        "colab": {
          "base_uri": "https://localhost:8080/"
        },
        "id": "h6ilPlrARD4_",
        "outputId": "e2379320-b1b9-4700-df0d-7ea957c3a6b8"
      },
      "execution_count": null,
      "outputs": [
        {
          "output_type": "stream",
          "name": "stdout",
          "text": [
            "3\n"
          ]
        }
      ]
    },
    {
      "cell_type": "code",
      "source": [
        "a.next = b\n",
        "b.next = c"
      ],
      "metadata": {
        "id": "P7uiJH95RJBg"
      },
      "execution_count": null,
      "outputs": []
    },
    {
      "cell_type": "code",
      "source": [
        "print(c.next)"
      ],
      "metadata": {
        "colab": {
          "base_uri": "https://localhost:8080/"
        },
        "id": "HHST4ARXRnC0",
        "outputId": "3d6d2278-93c5-467f-fa88-c767aa4149a1"
      },
      "execution_count": null,
      "outputs": [
        {
          "output_type": "stream",
          "name": "stdout",
          "text": [
            "None\n"
          ]
        }
      ]
    },
    {
      "cell_type": "code",
      "source": [
        "int(0x7fde268dfdd0)"
      ],
      "metadata": {
        "colab": {
          "base_uri": "https://localhost:8080/"
        },
        "id": "uEZs2eLQR7Xf",
        "outputId": "944a8020-c2fa-448d-b5f2-0f624385f7ff"
      },
      "execution_count": null,
      "outputs": [
        {
          "output_type": "execute_result",
          "data": {
            "text/plain": [
              "140592106307024"
            ]
          },
          "metadata": {},
          "execution_count": 16
        }
      ]
    },
    {
      "cell_type": "code",
      "source": [
        "class Node:\n",
        "\n",
        "  def __init__(self,value):\n",
        "    self.data = value\n",
        "    self.next = None"
      ],
      "metadata": {
        "id": "5iNlAQR3R91c"
      },
      "execution_count": null,
      "outputs": []
    },
    {
      "cell_type": "code",
      "source": [
        "class LinkedList:\n",
        "\n",
        "  def __init__(self):\n",
        "\n",
        "    # Empty Linked List\n",
        "    self.head = None\n",
        "    # no of nodes in the LL\n",
        "    self.n = 0\n",
        "\n",
        "  def __len__(self):\n",
        "    return self.n\n",
        "\n",
        "  def insert_head(self,value):\n",
        "\n",
        "    # new node\n",
        "    new_node = Node(value)\n",
        "\n",
        "    # create connection\n",
        "    new_node.next = self.head\n",
        "\n",
        "    # reassign head\n",
        "    self.head = new_node\n",
        "\n",
        "    # increment n\n",
        "    self.n = self.n + 1\n",
        "\n",
        "  def __str__(self):\n",
        "\n",
        "    curr = self.head\n",
        "\n",
        "    result = ''\n",
        "\n",
        "    while curr != None:\n",
        "      result = result + str(curr.data) + '->'\n",
        "      curr = curr.next\n",
        "\n",
        "    return result[:-2]\n",
        "\n",
        "  def append(self,value):\n",
        "\n",
        "    new_node = Node(value)\n",
        "\n",
        "    if self.head == None:\n",
        "      # empty\n",
        "      self.head = new_node\n",
        "      self.n = self.n + 1\n",
        "      return\n",
        "\n",
        "    curr = self.head\n",
        "\n",
        "    while curr.next != None:\n",
        "      curr = curr.next\n",
        "\n",
        "    # you are at the last node\n",
        "    curr.next = new_node\n",
        "    self.n = self.n + 1\n",
        "\n",
        "  def insert_after(self,after,value):\n",
        "\n",
        "    new_node = Node(value)\n",
        "\n",
        "    curr = self.head\n",
        "\n",
        "    while curr != None:\n",
        "      if curr.data == after:\n",
        "        break\n",
        "      curr = curr.next\n",
        "\n",
        "    if curr != None:\n",
        "      new_node.next = curr.next\n",
        "      curr.next = new_node\n",
        "      self.n = self.n + 1\n",
        "    else:\n",
        "      return 'Item not found'\n",
        "\n",
        "  def clear(self):\n",
        "    self.head = None\n",
        "    self.n = 0\n",
        "\n",
        "  def delete_head(self):\n",
        "\n",
        "    if self.head == None:\n",
        "      # empty\n",
        "      return 'Empty LL'\n",
        "\n",
        "    self.head = self.head.next\n",
        "    self.n = self.n - 1\n",
        "\n",
        "  def pop(self):\n",
        "\n",
        "    if self.head == None:\n",
        "      # empty\n",
        "      return 'Empty LL'\n",
        "\n",
        "    curr = self.head\n",
        "\n",
        "    # kya linked list me 1 item hai?\n",
        "    if curr.next == None:\n",
        "      # head hi hoga(delete from head)\n",
        "      return self.delete_head()\n",
        "      \n",
        "\n",
        "    while curr.next.next != None:\n",
        "      curr = curr.next\n",
        "\n",
        "    # curr -> 2nd last node\n",
        "    curr.next = None\n",
        "    self.n = self.n - 1\n",
        "\n",
        "  def remove(self,value):\n",
        "\n",
        "    if self.head == None:\n",
        "      return 'Empty LL'\n",
        "\n",
        "    if self.head.data == value:\n",
        "      # you want to remove the head node\n",
        "      return self.delete_head()\n",
        "\n",
        "    curr = self.head\n",
        "\n",
        "    while curr.next != None:\n",
        "      if curr.next.data == value:\n",
        "        break\n",
        "      curr = curr.next\n",
        "\n",
        "    # 2 cases item mil gaya\n",
        "    # item nai mila\n",
        "    if curr.next == None:\n",
        "      # item nai mila\n",
        "      return 'Not Found'\n",
        "    else:\n",
        "      curr.next = curr.next.next\n",
        "      self.n = self.n - 1\n",
        "\n",
        "  def search(self,item):\n",
        "\n",
        "    curr = self.head\n",
        "    pos = 0\n",
        "\n",
        "    while curr != None:\n",
        "      if curr.data == item:\n",
        "        return pos\n",
        "      curr = curr.next\n",
        "      pos = pos + 1\n",
        "\n",
        "    return 'Not Found'\n",
        "\n",
        "  def __getitem__(self,index):\n",
        "\n",
        "    curr = self.head\n",
        "    pos = 0\n",
        "\n",
        "    while curr != None:\n",
        "      if pos == index:\n",
        "        return curr.data\n",
        "      curr = curr.next\n",
        "      pos = pos + 1\n",
        "\n",
        "    return 'IndexError'\n",
        "\n",
        "\n",
        "    \n",
        "\n",
        "    \n",
        "\n",
        "    "
      ],
      "metadata": {
        "id": "RzuzauLNScVg"
      },
      "execution_count": null,
      "outputs": []
    },
    {
      "cell_type": "code",
      "source": [
        "L = LinkedList()"
      ],
      "metadata": {
        "id": "gWf5rFdZS-3p"
      },
      "execution_count": null,
      "outputs": []
    },
    {
      "cell_type": "code",
      "source": [
        "L.insert_head(1)\n",
        "L.append(2)\n",
        "L.append(3)\n",
        "L.delete_head()\n",
        "L.insert_head(4)"
      ],
      "metadata": {
        "id": "Z5yMPIzQTCZr"
      },
      "execution_count": null,
      "outputs": []
    },
    {
      "cell_type": "code",
      "source": [
        "print(L)"
      ],
      "metadata": {
        "colab": {
          "base_uri": "https://localhost:8080/"
        },
        "id": "4HQ9RdjSTEhX",
        "outputId": "65cf9986-4a61-418b-b0fe-814b286b5224"
      },
      "execution_count": null,
      "outputs": [
        {
          "output_type": "stream",
          "name": "stdout",
          "text": [
            "4->4->1->2->3->2->3\n"
          ]
        }
      ]
    },
    {
      "cell_type": "code",
      "source": [
        "L[4]"
      ],
      "metadata": {
        "colab": {
          "base_uri": "https://localhost:8080/",
          "height": 35
        },
        "id": "YbwkHMAJVH0Y",
        "outputId": "17e981b8-26f5-4cb0-94f4-0f407c41005f"
      },
      "execution_count": null,
      "outputs": [
        {
          "output_type": "execute_result",
          "data": {
            "text/plain": [
              "'IndexError'"
            ],
            "application/vnd.google.colaboratory.intrinsic+json": {
              "type": "string"
            }
          },
          "metadata": {},
          "execution_count": 229
        }
      ]
    },
    {
      "cell_type": "code",
      "source": [
        "print(L)"
      ],
      "metadata": {
        "colab": {
          "base_uri": "https://localhost:8080/"
        },
        "id": "Sgp2ql-PYYJw",
        "outputId": "3355ea8e-5f0f-4021-ffed-d1487fc72a7e"
      },
      "execution_count": null,
      "outputs": [
        {
          "output_type": "stream",
          "name": "stdout",
          "text": [
            "\n"
          ]
        }
      ]
    },
    {
      "cell_type": "code",
      "source": [],
      "metadata": {
        "id": "3Ur3zrkDcoiI"
      },
      "execution_count": null,
      "outputs": []
    }
  ]
}