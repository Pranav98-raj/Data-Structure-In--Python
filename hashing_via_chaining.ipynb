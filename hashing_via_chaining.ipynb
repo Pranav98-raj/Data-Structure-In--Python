{
  "nbformat": 4,
  "nbformat_minor": 0,
  "metadata": {
    "colab": {
      "provenance": []
    },
    "kernelspec": {
      "name": "python3",
      "display_name": "Python 3"
    }
  },
  "cells": [
    {
      "cell_type": "code",
      "metadata": {
        "id": "5RCi9eWfv3KK"
      },
      "source": [
        "class Node:\n",
        "\n",
        "  def __init__(self,key,value):\n",
        "    self.key = key\n",
        "    self.value = value\n",
        "    self.next = None"
      ],
      "execution_count": null,
      "outputs": []
    },
    {
      "cell_type": "code",
      "metadata": {
        "id": "mQ4C69JewaWJ"
      },
      "source": [
        "class LL:\n",
        "\n",
        "  def __init__(self):\n",
        "    self.head = None\n",
        "\n",
        "  def add(self, key, value):\n",
        "\n",
        "    new_node = Node(key, value)\n",
        "\n",
        "    if self.head == None:\n",
        "      self.head = new_node\n",
        "    else:\n",
        "\n",
        "      temp = self.head\n",
        "\n",
        "      while temp.next != None:\n",
        "        temp = temp.next\n",
        "\n",
        "      temp.next = new_node\n",
        "\n",
        "  def delete_head(self):\n",
        "\n",
        "    if self.head == None:\n",
        "      return \"Empty\"\n",
        "    else:\n",
        "      self.head = self.head.next\n",
        "\n",
        "  def remove(self, key):\n",
        "    if self.head.key == key:\n",
        "      self.delete_head()\n",
        "      return \n",
        "\n",
        "    if self.head == None:\n",
        "      return \"Empty\"\n",
        "    else:\n",
        "\n",
        "      temp = self.head\n",
        "\n",
        "      while temp.next != None:\n",
        "        if temp.next.key == key:\n",
        "          break\n",
        "        temp = temp.next\n",
        "\n",
        "      if temp.next == None:\n",
        "        return \"Not Found\"\n",
        "      else:\n",
        "        temp.next = temp.next.next\n",
        "        \n",
        "\n",
        "  def traverse(self):\n",
        "\n",
        "    temp = self.head\n",
        "\n",
        "    while temp != None:\n",
        "\n",
        "      print(temp.key,\"-->\",temp.value,\" \", end=\" \")\n",
        "      temp = temp.next\n",
        "\n",
        "  def size(self):\n",
        "\n",
        "    temp = self.head\n",
        "    counter = 0\n",
        "\n",
        "    while temp != None:\n",
        "\n",
        "      counter += 1\n",
        "      temp = temp.next\n",
        "\n",
        "    return counter\n",
        "\n",
        "  def search(self,key):\n",
        "\n",
        "    temp = self.head\n",
        "    pos = 0\n",
        "\n",
        "    while temp != None:\n",
        "\n",
        "      if temp.key == key:\n",
        "        return pos\n",
        "\n",
        "      temp = temp.next\n",
        "      pos += 1\n",
        "\n",
        "    return -1\n",
        "\n",
        "  def get_node_at_index(self,index):\n",
        "\n",
        "    temp = self.head\n",
        "    counter = 0\n",
        "\n",
        "    while temp is not None:\n",
        "\n",
        "      if counter == index:\n",
        "        return temp\n",
        "      temp = temp.next\n",
        "      counter+=1\n"
      ],
      "execution_count": null,
      "outputs": []
    },
    {
      "cell_type": "code",
      "metadata": {
        "id": "KJq7iUJox5qM"
      },
      "source": [
        "class Dictionary:\n",
        "\n",
        "  def __init__(self, capacity):\n",
        "\n",
        "    self.capacity = capacity\n",
        "    self.size = 0\n",
        "    # create array of LL\n",
        "    self.buckets = self.make_array(self.capacity)\n",
        "\n",
        "  def make_array(self,capacity):\n",
        "\n",
        "    L = []\n",
        "    for i in range(capacity):\n",
        "      L.append(LL())\n",
        "    return L\n",
        "\n",
        "  def __setitem__(self,key,value):\n",
        "    self.put(key,value)\n",
        "\n",
        "  def __getitem__(self,key):\n",
        "    return self.get(key)\n",
        "\n",
        "  def __delitem__(self,key):\n",
        "\n",
        "    bucket_index = self.hash_function(key)\n",
        "\n",
        "    self.buckets[bucket_index].remove(key)\n",
        "\n",
        "  def __str__(self):\n",
        "\n",
        "    for i in self.buckets:\n",
        "      i.traverse()\n",
        "\n",
        "    return \"\"\n",
        "\n",
        "  def __len__(self):\n",
        "    return self.size\n",
        "\n",
        "\n",
        "  def get(self,key):\n",
        "\n",
        "    bucket_index = self.hash_function(key)\n",
        "\n",
        "    res = self.buckets[bucket_index].search(key)\n",
        "\n",
        "    if res == -1:\n",
        "      return \"Not Present\"\n",
        "    else:\n",
        "      node = self.buckets[bucket_index].get_node_at_index(res)\n",
        "      return node.value\n",
        "\n",
        "\n",
        "  def put(self, key, value):\n",
        "\n",
        "    bucket_index = self.hash_function(key)\n",
        "\n",
        "    node_index = self.get_node_index(bucket_index, key)\n",
        "\n",
        "    if node_index == -1:\n",
        "      # insert\n",
        "      self.buckets[bucket_index].add(key,value)\n",
        "      self.size+=1\n",
        "\n",
        "      load_factor = self.size/self.capacity\n",
        "      print(load_factor)\n",
        "\n",
        "      if (load_factor >= 2):\n",
        "        self.rehash()\n",
        "    else:\n",
        "      # update\n",
        "      node = self.buckets[bucket_index].get_node_at_index(node_index)\n",
        "      node.value = value\n",
        "\n",
        "  def rehash(self):\n",
        "    self.capacity = self.capacity * 2\n",
        "    old_buckets = self.buckets\n",
        "    self.size = 0\n",
        "    self.buckets = self.make_array(self.capacity)\n",
        "\n",
        "    for i in old_buckets:\n",
        "      for j in range(i.size()):\n",
        "        node = i.get_node_at_index(j)\n",
        "        key_item = node.key\n",
        "        value_item = node.value\n",
        "        self.put(key_item,value_item)\n",
        "\n",
        "\n",
        "\n",
        "  def get_node_index(self,bucket_index, key):\n",
        "\n",
        "    node_index = self.buckets[bucket_index].search(key)\n",
        "\n",
        "    return node_index\n",
        "\n",
        "  def hash_function(self,key):\n",
        "    return abs(hash(key)) % self.capacity\n",
        "\n"
      ],
      "execution_count": null,
      "outputs": []
    },
    {
      "cell_type": "code",
      "metadata": {
        "id": "f-1NfMh1voU2"
      },
      "source": [
        "# get items\n",
        "# traverse\n",
        "# delete"
      ],
      "execution_count": null,
      "outputs": []
    },
    {
      "cell_type": "code",
      "metadata": {
        "id": "1g-0TdPgylif"
      },
      "source": [
        "L = []\n",
        "\n",
        "for i in range(3):\n",
        "  L.append(LL())"
      ],
      "execution_count": null,
      "outputs": []
    },
    {
      "cell_type": "code",
      "metadata": {
        "colab": {
          "base_uri": "https://localhost:8080/"
        },
        "id": "gnel5azbynrp",
        "outputId": "7d0d5b02-187b-4daa-b2b4-8f856741cff9"
      },
      "source": [
        "L"
      ],
      "execution_count": null,
      "outputs": [
        {
          "output_type": "execute_result",
          "data": {
            "text/plain": [
              "[<__main__.LL at 0x7f9d69437cc0>,\n",
              " <__main__.LL at 0x7f9d69437da0>,\n",
              " <__main__.LL at 0x7f9d69437eb8>]"
            ]
          },
          "metadata": {
            "tags": []
          },
          "execution_count": 5
        }
      ]
    },
    {
      "cell_type": "code",
      "metadata": {
        "colab": {
          "base_uri": "https://localhost:8080/"
        },
        "id": "eiHqIb3Ayqcc",
        "outputId": "e02a1662-632e-4112-c062-4cfae494a026"
      },
      "source": [
        "type(L[0])"
      ],
      "execution_count": null,
      "outputs": [
        {
          "output_type": "execute_result",
          "data": {
            "text/plain": [
              "__main__.LL"
            ]
          },
          "metadata": {
            "tags": []
          },
          "execution_count": 6
        }
      ]
    },
    {
      "cell_type": "code",
      "metadata": {
        "id": "4ErwNKDOyxC_"
      },
      "source": [
        "L = [LL()] * 3"
      ],
      "execution_count": null,
      "outputs": []
    },
    {
      "cell_type": "code",
      "metadata": {
        "colab": {
          "base_uri": "https://localhost:8080/"
        },
        "id": "GNyxjx1GzImN",
        "outputId": "4cffafa6-96ab-4832-9cc5-a96c97c351d1"
      },
      "source": [
        "L"
      ],
      "execution_count": null,
      "outputs": [
        {
          "output_type": "execute_result",
          "data": {
            "text/plain": [
              "[<__main__.LL at 0x7f9d693902b0>,\n",
              " <__main__.LL at 0x7f9d693902b0>,\n",
              " <__main__.LL at 0x7f9d693902b0>]"
            ]
          },
          "metadata": {
            "tags": []
          },
          "execution_count": 8
        }
      ]
    },
    {
      "cell_type": "code",
      "metadata": {
        "id": "ebSyUUwOzJNL"
      },
      "source": [
        "L = LL()"
      ],
      "execution_count": null,
      "outputs": []
    },
    {
      "cell_type": "code",
      "metadata": {
        "id": "8DIaEzDz2Qkm"
      },
      "source": [
        "L.add(2,3)"
      ],
      "execution_count": null,
      "outputs": []
    },
    {
      "cell_type": "code",
      "metadata": {
        "id": "S2tQqsow2SDP"
      },
      "source": [
        "L.add(4,5)"
      ],
      "execution_count": null,
      "outputs": []
    },
    {
      "cell_type": "code",
      "metadata": {
        "id": "xburqnbf2TIL"
      },
      "source": [
        "L.add(6,7)"
      ],
      "execution_count": null,
      "outputs": []
    },
    {
      "cell_type": "code",
      "metadata": {
        "colab": {
          "base_uri": "https://localhost:8080/"
        },
        "id": "v4M2yvXb2UV5",
        "outputId": "ceb8af33-4642-43d9-f384-71b00c513362"
      },
      "source": [
        "L.traverse()"
      ],
      "execution_count": null,
      "outputs": [
        {
          "output_type": "stream",
          "text": [
            "2 --> 3   4 --> 5   6 --> 7   "
          ],
          "name": "stdout"
        }
      ]
    },
    {
      "cell_type": "code",
      "metadata": {
        "colab": {
          "base_uri": "https://localhost:8080/"
        },
        "id": "nGsk8KSb2Wni",
        "outputId": "101cb8cc-836f-464b-b7c8-cc3041fe832a"
      },
      "source": [
        "L.get_node_at_index(0).key"
      ],
      "execution_count": null,
      "outputs": [
        {
          "output_type": "execute_result",
          "data": {
            "text/plain": [
              "2"
            ]
          },
          "metadata": {
            "tags": []
          },
          "execution_count": 18
        }
      ]
    },
    {
      "cell_type": "code",
      "metadata": {
        "id": "S7_1IJsO2dOf"
      },
      "source": [
        "D1 = Dictionary(3)"
      ],
      "execution_count": null,
      "outputs": []
    },
    {
      "cell_type": "code",
      "metadata": {
        "colab": {
          "base_uri": "https://localhost:8080/"
        },
        "id": "Dfyo_T733ydy",
        "outputId": "481df50d-5ca4-4b36-d4e6-ced30b1f4f12"
      },
      "source": [
        "D1.put(\"c\",20000)"
      ],
      "execution_count": null,
      "outputs": [
        {
          "output_type": "stream",
          "text": [
            "0.3333333333333333\n"
          ],
          "name": "stdout"
        }
      ]
    },
    {
      "cell_type": "code",
      "metadata": {
        "colab": {
          "base_uri": "https://localhost:8080/",
          "height": 35
        },
        "id": "nsbZt6pp3-Fc",
        "outputId": "1bd9cd08-44fd-457c-9075-13d5d71fb15e"
      },
      "source": [
        "D1[\"java\"]"
      ],
      "execution_count": null,
      "outputs": [
        {
          "output_type": "execute_result",
          "data": {
            "application/vnd.google.colaboratory.intrinsic+json": {
              "type": "string"
            },
            "text/plain": [
              "'Not Present'"
            ]
          },
          "metadata": {
            "tags": []
          },
          "execution_count": 25
        }
      ]
    },
    {
      "cell_type": "code",
      "metadata": {
        "id": "-83pOiph4gZJ"
      },
      "source": [
        "del D1[\"java\"]"
      ],
      "execution_count": null,
      "outputs": []
    },
    {
      "cell_type": "code",
      "metadata": {
        "id": "gDBNpIki4k-U",
        "colab": {
          "base_uri": "https://localhost:8080/"
        },
        "outputId": "10f24aae-2945-416f-bee1-6869a3154d51"
      },
      "source": [
        "D1.put(\"Java\",56)"
      ],
      "execution_count": null,
      "outputs": [
        {
          "output_type": "stream",
          "text": [
            "0.5\n"
          ],
          "name": "stdout"
        }
      ]
    },
    {
      "cell_type": "code",
      "metadata": {
        "id": "4t6613Mq4tsG"
      },
      "source": [
        "D1 = Dictionary(4)"
      ],
      "execution_count": null,
      "outputs": []
    },
    {
      "cell_type": "code",
      "metadata": {
        "colab": {
          "base_uri": "https://localhost:8080/"
        },
        "id": "-_px_9XJ7M4N",
        "outputId": "9c962f2b-e743-4208-9bce-9cae866deb98"
      },
      "source": [
        "D1.put(\"php\",34)"
      ],
      "execution_count": null,
      "outputs": [
        {
          "output_type": "stream",
          "text": [
            "0.6666666666666666\n"
          ],
          "name": "stdout"
        }
      ]
    },
    {
      "cell_type": "code",
      "metadata": {
        "id": "giRQ40pm7Y2f",
        "colab": {
          "base_uri": "https://localhost:8080/"
        },
        "outputId": "1fa50109-4d19-4b33-8a6a-5b9c082f4d2b"
      },
      "source": [
        "D1[\"matlab\"] = 45"
      ],
      "execution_count": null,
      "outputs": [
        {
          "output_type": "stream",
          "text": [
            "1.0\n"
          ],
          "name": "stdout"
        }
      ]
    },
    {
      "cell_type": "code",
      "metadata": {
        "colab": {
          "base_uri": "https://localhost:8080/"
        },
        "id": "4B8OPQrgxwMy",
        "outputId": "0e82f476-d62c-4d4a-a2d8-33900140cbd6"
      },
      "source": [
        "print(D1)"
      ],
      "execution_count": null,
      "outputs": [
        {
          "output_type": "stream",
          "text": [
            "php --> 34   matlab --> 45   c --> 20000   \n"
          ],
          "name": "stdout"
        }
      ]
    },
    {
      "cell_type": "code",
      "metadata": {
        "colab": {
          "base_uri": "https://localhost:8080/"
        },
        "id": "epVCxmJpxypX",
        "outputId": "86edeb6b-baf7-456d-947c-8646cd0e6738"
      },
      "source": [
        "len(D1)"
      ],
      "execution_count": null,
      "outputs": [
        {
          "output_type": "execute_result",
          "data": {
            "text/plain": [
              "3"
            ]
          },
          "metadata": {
            "tags": []
          },
          "execution_count": 41
        }
      ]
    },
    {
      "cell_type": "code",
      "metadata": {
        "id": "k9IVgAlX0XFo"
      },
      "source": [],
      "execution_count": null,
      "outputs": []
    }
  ]
}